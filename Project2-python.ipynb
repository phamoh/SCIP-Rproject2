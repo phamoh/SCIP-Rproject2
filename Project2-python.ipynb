{
  "nbformat": 4,
  "nbformat_minor": 0,
  "metadata": {
    "colab": {
      "name": "Project2-python.ipynb",
      "provenance": [],
      "collapsed_sections": [],
      "toc_visible": true,
      "authorship_tag": "ABX9TyNqBCaXfwFcSDzvkXB1Y0bY",
      "include_colab_link": true
    },
    "kernelspec": {
      "name": "python3",
      "display_name": "Python 3"
    },
    "language_info": {
      "name": "python"
    }
  },
  "cells": [
    {
      "cell_type": "markdown",
      "metadata": {
        "id": "view-in-github",
        "colab_type": "text"
      },
      "source": [
        "<a href=\"https://colab.research.google.com/github/phamoh/SCIP-Rproject2/blob/main/Project2_python.ipynb\" target=\"_parent\"><img src=\"https://colab.research.google.com/assets/colab-badge.svg\" alt=\"Open In Colab\"/></a>"
      ]
    },
    {
      "cell_type": "markdown",
      "metadata": {
        "id": "c5P_vo80qaKK"
      },
      "source": [
        "# SCIP Project 2"
      ]
    },
    {
      "cell_type": "markdown",
      "metadata": {
        "id": "H_l9OqazxVDX"
      },
      "source": [
        "# Let's get started!\n"
      ]
    },
    {
      "cell_type": "markdown",
      "metadata": {
        "id": "ObBBhCK7qH_m"
      },
      "source": [
        "Today's project is inspired by the graphics in this article in the LA Time about COVID-19 vaccinations in California. I also included a pdf version of the article from May 10th in case the link no longer works (You can find it in the GitHub Repo).\n",
        "Link: https://www.latimes.com/projects/california-coronavirus-cases-tracking-outbreak/covid-19-vaccines-distribution/#county-comparison\n",
        "\n",
        "Note: This dataset was downloaded on May 10, 2021 so some of the data will be different than the news by the time you do your project. If you would like to download the latest dataset, you can visit https://data.ca.gov/dataset/covid-19-vaccine-progress-dashboard-data and download the \"Statewide COVID-19 Vaccines Administered By County\" csv file.\n",
        "\n",
        "If you want to learn more about the data, in this folder is also an xlsx file that gives you more of an in-depth description of the data collected. The file is called \"covid-19-progress-dashboard-data-dictionary.xlsx\"\n",
        "\n",
        "\n"
      ]
    },
    {
      "cell_type": "code",
      "metadata": {
        "id": "rDiznuETpss-"
      },
      "source": [
        "import pandas as pd\n",
        "from pandas.api.types import CategoricalDtype\n",
        "import numpy as np\n",
        "from datetime import datetime\n",
        "from plotnine import *"
      ],
      "execution_count": null,
      "outputs": []
    },
    {
      "cell_type": "markdown",
      "metadata": {
        "id": "O7i-AyHMq2z0"
      },
      "source": [
        "Read the dataset \"covid-19-progress-county-051021.csv\" from GitHib\n",
        "\n",
        "The full repo is here https://github.com/phamoh/SCIP-Rproject2"
      ]
    },
    {
      "cell_type": "code",
      "metadata": {
        "id": "DjdfLY91rOBr"
      },
      "source": [
        "url = \"https://raw.githubusercontent.com/phamoh/SCIP-Rproject2/main/covid-19-progress-county-051021.csv\" \n",
        "data = pd.read_csv(url)"
      ],
      "execution_count": null,
      "outputs": []
    },
    {
      "cell_type": "code",
      "metadata": {
        "colab": {
          "base_uri": "https://localhost:8080/",
          "height": 524
        },
        "id": "Que6j6BmrVGN",
        "outputId": "56207b93-4227-4c42-afa1-5f979c5d8d88"
      },
      "source": [
        "data"
      ],
      "execution_count": null,
      "outputs": [
        {
          "output_type": "execute_result",
          "data": {
            "text/html": [
              "<div>\n",
              "<style scoped>\n",
              "    .dataframe tbody tr th:only-of-type {\n",
              "        vertical-align: middle;\n",
              "    }\n",
              "\n",
              "    .dataframe tbody tr th {\n",
              "        vertical-align: top;\n",
              "    }\n",
              "\n",
              "    .dataframe thead th {\n",
              "        text-align: right;\n",
              "    }\n",
              "</style>\n",
              "<table border=\"1\" class=\"dataframe\">\n",
              "  <thead>\n",
              "    <tr style=\"text-align: right;\">\n",
              "      <th></th>\n",
              "      <th>county</th>\n",
              "      <th>administered_date</th>\n",
              "      <th>total_doses</th>\n",
              "      <th>cumulative_total_doses</th>\n",
              "      <th>pfizer_doses</th>\n",
              "      <th>cumulative_pfizer_doses</th>\n",
              "      <th>moderna_doses</th>\n",
              "      <th>cumulative_moderna_doses</th>\n",
              "      <th>jj_doses</th>\n",
              "      <th>cumulative_jj_doses</th>\n",
              "      <th>partially_vaccinated</th>\n",
              "      <th>total_partially_vaccinated</th>\n",
              "      <th>fully_vaccinated</th>\n",
              "      <th>cumulative_fully_vaccinated</th>\n",
              "      <th>at_least_one_dose</th>\n",
              "      <th>cumulative_at_least_one_dose</th>\n",
              "      <th>california_flag</th>\n",
              "    </tr>\n",
              "  </thead>\n",
              "  <tbody>\n",
              "    <tr>\n",
              "      <th>0</th>\n",
              "      <td>All CA Counties</td>\n",
              "      <td>2020-12-15</td>\n",
              "      <td>1134</td>\n",
              "      <td>1134</td>\n",
              "      <td>1134</td>\n",
              "      <td>1134</td>\n",
              "      <td>0</td>\n",
              "      <td>0</td>\n",
              "      <td>0</td>\n",
              "      <td>0</td>\n",
              "      <td>1134</td>\n",
              "      <td>1134</td>\n",
              "      <td>0</td>\n",
              "      <td>0</td>\n",
              "      <td>1134</td>\n",
              "      <td>1134</td>\n",
              "      <td>NaN</td>\n",
              "    </tr>\n",
              "    <tr>\n",
              "      <th>1</th>\n",
              "      <td>All CA Counties</td>\n",
              "      <td>2020-12-16</td>\n",
              "      <td>8119</td>\n",
              "      <td>9253</td>\n",
              "      <td>8119</td>\n",
              "      <td>9253</td>\n",
              "      <td>0</td>\n",
              "      <td>0</td>\n",
              "      <td>0</td>\n",
              "      <td>0</td>\n",
              "      <td>8119</td>\n",
              "      <td>9253</td>\n",
              "      <td>0</td>\n",
              "      <td>0</td>\n",
              "      <td>8119</td>\n",
              "      <td>9253</td>\n",
              "      <td>NaN</td>\n",
              "    </tr>\n",
              "    <tr>\n",
              "      <th>2</th>\n",
              "      <td>All CA Counties</td>\n",
              "      <td>2020-12-17</td>\n",
              "      <td>25719</td>\n",
              "      <td>34972</td>\n",
              "      <td>25719</td>\n",
              "      <td>34972</td>\n",
              "      <td>0</td>\n",
              "      <td>0</td>\n",
              "      <td>0</td>\n",
              "      <td>0</td>\n",
              "      <td>25721</td>\n",
              "      <td>34974</td>\n",
              "      <td>0</td>\n",
              "      <td>0</td>\n",
              "      <td>25721</td>\n",
              "      <td>34974</td>\n",
              "      <td>NaN</td>\n",
              "    </tr>\n",
              "    <tr>\n",
              "      <th>3</th>\n",
              "      <td>All CA Counties</td>\n",
              "      <td>2020-12-18</td>\n",
              "      <td>43750</td>\n",
              "      <td>78722</td>\n",
              "      <td>43696</td>\n",
              "      <td>78668</td>\n",
              "      <td>54</td>\n",
              "      <td>54</td>\n",
              "      <td>0</td>\n",
              "      <td>0</td>\n",
              "      <td>43751</td>\n",
              "      <td>78725</td>\n",
              "      <td>0</td>\n",
              "      <td>0</td>\n",
              "      <td>43751</td>\n",
              "      <td>78725</td>\n",
              "      <td>NaN</td>\n",
              "    </tr>\n",
              "    <tr>\n",
              "      <th>4</th>\n",
              "      <td>All CA Counties</td>\n",
              "      <td>2020-12-19</td>\n",
              "      <td>25203</td>\n",
              "      <td>103925</td>\n",
              "      <td>25180</td>\n",
              "      <td>103848</td>\n",
              "      <td>23</td>\n",
              "      <td>77</td>\n",
              "      <td>0</td>\n",
              "      <td>0</td>\n",
              "      <td>25202</td>\n",
              "      <td>103926</td>\n",
              "      <td>1</td>\n",
              "      <td>1</td>\n",
              "      <td>25202</td>\n",
              "      <td>103927</td>\n",
              "      <td>NaN</td>\n",
              "    </tr>\n",
              "    <tr>\n",
              "      <th>...</th>\n",
              "      <td>...</td>\n",
              "      <td>...</td>\n",
              "      <td>...</td>\n",
              "      <td>...</td>\n",
              "      <td>...</td>\n",
              "      <td>...</td>\n",
              "      <td>...</td>\n",
              "      <td>...</td>\n",
              "      <td>...</td>\n",
              "      <td>...</td>\n",
              "      <td>...</td>\n",
              "      <td>...</td>\n",
              "      <td>...</td>\n",
              "      <td>...</td>\n",
              "      <td>...</td>\n",
              "      <td>...</td>\n",
              "      <td>...</td>\n",
              "    </tr>\n",
              "    <tr>\n",
              "      <th>8678</th>\n",
              "      <td>Yuba</td>\n",
              "      <td>2021-05-04</td>\n",
              "      <td>285</td>\n",
              "      <td>34112</td>\n",
              "      <td>93</td>\n",
              "      <td>10333</td>\n",
              "      <td>171</td>\n",
              "      <td>21494</td>\n",
              "      <td>21</td>\n",
              "      <td>2285</td>\n",
              "      <td>127</td>\n",
              "      <td>5638</td>\n",
              "      <td>158</td>\n",
              "      <td>15344</td>\n",
              "      <td>148</td>\n",
              "      <td>20982</td>\n",
              "      <td>California</td>\n",
              "    </tr>\n",
              "    <tr>\n",
              "      <th>8679</th>\n",
              "      <td>Yuba</td>\n",
              "      <td>2021-05-05</td>\n",
              "      <td>304</td>\n",
              "      <td>34416</td>\n",
              "      <td>76</td>\n",
              "      <td>10409</td>\n",
              "      <td>221</td>\n",
              "      <td>21715</td>\n",
              "      <td>7</td>\n",
              "      <td>2292</td>\n",
              "      <td>105</td>\n",
              "      <td>5551</td>\n",
              "      <td>199</td>\n",
              "      <td>15543</td>\n",
              "      <td>112</td>\n",
              "      <td>21094</td>\n",
              "      <td>California</td>\n",
              "    </tr>\n",
              "    <tr>\n",
              "      <th>8680</th>\n",
              "      <td>Yuba</td>\n",
              "      <td>2021-05-06</td>\n",
              "      <td>226</td>\n",
              "      <td>34642</td>\n",
              "      <td>98</td>\n",
              "      <td>10507</td>\n",
              "      <td>90</td>\n",
              "      <td>21805</td>\n",
              "      <td>38</td>\n",
              "      <td>2330</td>\n",
              "      <td>75</td>\n",
              "      <td>5516</td>\n",
              "      <td>148</td>\n",
              "      <td>15691</td>\n",
              "      <td>113</td>\n",
              "      <td>21207</td>\n",
              "      <td>California</td>\n",
              "    </tr>\n",
              "    <tr>\n",
              "      <th>8681</th>\n",
              "      <td>Yuba</td>\n",
              "      <td>2021-05-07</td>\n",
              "      <td>287</td>\n",
              "      <td>34929</td>\n",
              "      <td>56</td>\n",
              "      <td>10563</td>\n",
              "      <td>210</td>\n",
              "      <td>22015</td>\n",
              "      <td>21</td>\n",
              "      <td>2351</td>\n",
              "      <td>91</td>\n",
              "      <td>5431</td>\n",
              "      <td>196</td>\n",
              "      <td>15887</td>\n",
              "      <td>111</td>\n",
              "      <td>21318</td>\n",
              "      <td>California</td>\n",
              "    </tr>\n",
              "    <tr>\n",
              "      <th>8682</th>\n",
              "      <td>Yuba</td>\n",
              "      <td>2021-05-08</td>\n",
              "      <td>64</td>\n",
              "      <td>34993</td>\n",
              "      <td>17</td>\n",
              "      <td>10580</td>\n",
              "      <td>45</td>\n",
              "      <td>22060</td>\n",
              "      <td>2</td>\n",
              "      <td>2353</td>\n",
              "      <td>14</td>\n",
              "      <td>5397</td>\n",
              "      <td>50</td>\n",
              "      <td>15937</td>\n",
              "      <td>16</td>\n",
              "      <td>21334</td>\n",
              "      <td>California</td>\n",
              "    </tr>\n",
              "  </tbody>\n",
              "</table>\n",
              "<p>8683 rows × 17 columns</p>\n",
              "</div>"
            ],
            "text/plain": [
              "               county  ... california_flag\n",
              "0     All CA Counties  ...             NaN\n",
              "1     All CA Counties  ...             NaN\n",
              "2     All CA Counties  ...             NaN\n",
              "3     All CA Counties  ...             NaN\n",
              "4     All CA Counties  ...             NaN\n",
              "...               ...  ...             ...\n",
              "8678             Yuba  ...      California\n",
              "8679             Yuba  ...      California\n",
              "8680             Yuba  ...      California\n",
              "8681             Yuba  ...      California\n",
              "8682             Yuba  ...      California\n",
              "\n",
              "[8683 rows x 17 columns]"
            ]
          },
          "metadata": {
            "tags": []
          },
          "execution_count": 3
        }
      ]
    },
    {
      "cell_type": "markdown",
      "metadata": {
        "id": "uopyvM9iz8vw"
      },
      "source": [
        "# Cleaning data"
      ]
    },
    {
      "cell_type": "markdown",
      "metadata": {
        "id": "1FreYwgCronY"
      },
      "source": [
        "## Removing whitespace\n",
        "\n",
        "Sometimes data can be very messy. Data entry can include extra white spaces that can mess up your analysis.\n",
        "\n",
        "So before you begin your analysis with datasets involving text, you should remove any extra white spaces.\n",
        "\n",
        "There are a various ways you can do this. Here are some:\n",
        "\n",
        "*   Method 1: Use strip() function\n",
        "*   Method 2: Use join() and split()\n",
        "\n",
        "Let's start simple, you can remove the white spaces which are found at the beginning or end of a string by using the `strip()` function."
      ]
    },
    {
      "cell_type": "code",
      "metadata": {
        "colab": {
          "base_uri": "https://localhost:8080/",
          "height": 35
        },
        "id": "Tinv39t-x3bE",
        "outputId": "f81e43c4-c695-4848-a9cf-096b98a57593"
      },
      "source": [
        "# Creating a string of text that has an extra white space\n",
        "text1 = \"I am writing a sentence with an extra space at the end \"\n",
        "text1"
      ],
      "execution_count": null,
      "outputs": [
        {
          "output_type": "execute_result",
          "data": {
            "application/vnd.google.colaboratory.intrinsic+json": {
              "type": "string"
            },
            "text/plain": [
              "'I am writing a sentence with an extra space at the end '"
            ]
          },
          "metadata": {
            "tags": []
          },
          "execution_count": 8
        }
      ]
    },
    {
      "cell_type": "code",
      "metadata": {
        "colab": {
          "base_uri": "https://localhost:8080/",
          "height": 35
        },
        "id": "P6hR_bavyBFR",
        "outputId": "a7c5674a-618d-47fd-b87f-c726569641af"
      },
      "source": [
        "text1.strip()"
      ],
      "execution_count": null,
      "outputs": [
        {
          "output_type": "execute_result",
          "data": {
            "application/vnd.google.colaboratory.intrinsic+json": {
              "type": "string"
            },
            "text/plain": [
              "'I am writing a sentence with an extra space at the end'"
            ]
          },
          "metadata": {
            "tags": []
          },
          "execution_count": 27
        }
      ]
    },
    {
      "cell_type": "markdown",
      "metadata": {
        "id": "5c4ahLSVy5Jv"
      },
      "source": [
        "What if we want to remove duplicated whitespaces in a sentence? We can use `join()` function with string `split()` function. This will remove whitespaces throughout the string by spliting the string into a list and then joining with a single whitespace \" \".\n"
      ]
    },
    {
      "cell_type": "code",
      "metadata": {
        "colab": {
          "base_uri": "https://localhost:8080/",
          "height": 35
        },
        "id": "CmVUy1FezuMf",
        "outputId": "78e30286-5e77-44db-90f9-53031befedda"
      },
      "source": [
        "text2 = \"I am writing a    sentence with an extra spaces everywhere \"\n",
        "text2"
      ],
      "execution_count": null,
      "outputs": [
        {
          "output_type": "execute_result",
          "data": {
            "application/vnd.google.colaboratory.intrinsic+json": {
              "type": "string"
            },
            "text/plain": [
              "' I am writing a    sentence with an extra spaces everywhere '"
            ]
          },
          "metadata": {
            "tags": []
          },
          "execution_count": 13
        }
      ]
    },
    {
      "cell_type": "code",
      "metadata": {
        "colab": {
          "base_uri": "https://localhost:8080/",
          "height": 35
        },
        "id": "bOvpYzfWzRcP",
        "outputId": "35b87c45-d967-4c63-f421-1f7a4b802ad3"
      },
      "source": [
        "\" \".join(text2.split())"
      ],
      "execution_count": null,
      "outputs": [
        {
          "output_type": "execute_result",
          "data": {
            "application/vnd.google.colaboratory.intrinsic+json": {
              "type": "string"
            },
            "text/plain": [
              "'I am writing a sentence with an extra spaces everywhere'"
            ]
          },
          "metadata": {
            "tags": []
          },
          "execution_count": 22
        }
      ]
    },
    {
      "cell_type": "markdown",
      "metadata": {
        "id": "h9ZJ-9Xx3pzl"
      },
      "source": [
        "Now lets use clean up the county column in our vaccine dataset. \n",
        "\n",
        "Note: What is different here than the previos chunk is that you also need to include str.\n",
        "\n",
        "Tip: You need to remember to assign it to a variable to see the results. Here we are re-assigning it to the county column.\n"
      ]
    },
    {
      "cell_type": "code",
      "metadata": {
        "id": "b1UXcye23paC"
      },
      "source": [
        "data['county'] = data['county'].str.strip()\n"
      ],
      "execution_count": null,
      "outputs": []
    },
    {
      "cell_type": "markdown",
      "metadata": {
        "id": "WdBJPNDj9Gjh"
      },
      "source": [
        "## Formatting dates\n",
        "\n",
        "A date in Python is not a data type of its own so we have to use libraries named datetime or pandas to work with dates as date objects.\n",
        "\n",
        "In this dataset, we know that the \"administered_date\" column are dates and a column that we are interested in working with. Since this dataset comes from America, we are used to date formats as MM/DD/YYYY however, dates can be represented in different ways in different countries. For example, in Asia it is YYYY/MMM/DDD. To find out what %Y-%m-%d is and other formats, take a look at the guide.\n",
        "\n",
        "Guide: https://www.w3schools.com/python/python_datetime.asp\n"
      ]
    },
    {
      "cell_type": "code",
      "metadata": {
        "colab": {
          "base_uri": "https://localhost:8080/"
        },
        "id": "DsB0gn-H-DCD",
        "outputId": "7fc1d86a-6429-4ada-aa2d-86e21135f34e"
      },
      "source": [
        "# Let's practice on date format using the library datetime\n",
        "date_str = '15/Jan/2020'\n",
        "\n",
        "datetime.strptime(date_str, '%d/%b/%Y')\n"
      ],
      "execution_count": null,
      "outputs": [
        {
          "output_type": "execute_result",
          "data": {
            "text/plain": [
              "datetime.datetime(2020, 1, 15, 0, 0)"
            ]
          },
          "metadata": {
            "tags": []
          },
          "execution_count": 64
        }
      ]
    },
    {
      "cell_type": "code",
      "metadata": {
        "colab": {
          "base_uri": "https://localhost:8080/"
        },
        "id": "6rEJsZxDF8GV",
        "outputId": "a9979b8d-9134-41d2-ce6a-a5c8cd32c12c"
      },
      "source": [
        "# Let's practice on date format using the library pandas\n",
        "date_str = '15/Jan/2020'\n",
        "\n",
        "pd.to_datetime(date_str, format='%d/%b/%Y')"
      ],
      "execution_count": null,
      "outputs": [
        {
          "output_type": "execute_result",
          "data": {
            "text/plain": [
              "Timestamp('2020-01-15 00:00:00')"
            ]
          },
          "metadata": {
            "tags": []
          },
          "execution_count": 65
        }
      ]
    },
    {
      "cell_type": "markdown",
      "metadata": {
        "id": "wvBT8sDHD-3y"
      },
      "source": [
        "## Question\n",
        "\n",
        "What would the legal format codes be for these dates?\n",
        "\n",
        "1. 01/Jan/2020\n",
        "2. 01/15/20\n",
        "3. January-15-2020\n",
        "\n"
      ]
    },
    {
      "cell_type": "markdown",
      "metadata": {
        "id": "o9iOoWZ3F7-L"
      },
      "source": [
        "Now let's begin transforming the 'administered_date' column to a date object."
      ]
    },
    {
      "cell_type": "code",
      "metadata": {
        "colab": {
          "base_uri": "https://localhost:8080/"
        },
        "id": "zfNSU0fz8pV8",
        "outputId": "d6e56309-82b9-4a2c-8b1a-7983fa706cb0"
      },
      "source": [
        "data.dtypes"
      ],
      "execution_count": null,
      "outputs": [
        {
          "output_type": "execute_result",
          "data": {
            "text/plain": [
              "county                          object\n",
              "administered_date               object\n",
              "total_doses                      int64\n",
              "cumulative_total_doses           int64\n",
              "pfizer_doses                     int64\n",
              "cumulative_pfizer_doses          int64\n",
              "moderna_doses                    int64\n",
              "cumulative_moderna_doses         int64\n",
              "jj_doses                         int64\n",
              "cumulative_jj_doses              int64\n",
              "partially_vaccinated             int64\n",
              "total_partially_vaccinated       int64\n",
              "fully_vaccinated                 int64\n",
              "cumulative_fully_vaccinated      int64\n",
              "at_least_one_dose                int64\n",
              "cumulative_at_least_one_dose     int64\n",
              "california_flag                 object\n",
              "dtype: object"
            ]
          },
          "metadata": {
            "tags": []
          },
          "execution_count": 33
        }
      ]
    },
    {
      "cell_type": "code",
      "metadata": {
        "colab": {
          "base_uri": "https://localhost:8080/"
        },
        "id": "7ReM8UKoD92c",
        "outputId": "9635fff7-250c-4bc9-dea1-d2b4993cf6ac"
      },
      "source": [
        "data['administered_date'] = pd.to_datetime(data['administered_date'], format='%Y-%m-%d')\n",
        "data.dtypes"
      ],
      "execution_count": null,
      "outputs": [
        {
          "output_type": "execute_result",
          "data": {
            "text/plain": [
              "county                                  object\n",
              "administered_date               datetime64[ns]\n",
              "total_doses                              int64\n",
              "cumulative_total_doses                   int64\n",
              "pfizer_doses                             int64\n",
              "cumulative_pfizer_doses                  int64\n",
              "moderna_doses                            int64\n",
              "cumulative_moderna_doses                 int64\n",
              "jj_doses                                 int64\n",
              "cumulative_jj_doses                      int64\n",
              "partially_vaccinated                     int64\n",
              "total_partially_vaccinated               int64\n",
              "fully_vaccinated                         int64\n",
              "cumulative_fully_vaccinated              int64\n",
              "at_least_one_dose                        int64\n",
              "cumulative_at_least_one_dose             int64\n",
              "california_flag                         object\n",
              "dtype: object"
            ]
          },
          "metadata": {
            "tags": []
          },
          "execution_count": 68
        }
      ]
    },
    {
      "cell_type": "markdown",
      "metadata": {
        "id": "pdFMlINdINpJ"
      },
      "source": [
        "# Calculating the percentage of those vaccinated (for plot 1)\n",
        "\n",
        "For this section, we will take a subset of the data. We will focus on the rows that have data for \"All CA Counties\".\n"
      ]
    },
    {
      "cell_type": "code",
      "metadata": {
        "colab": {
          "base_uri": "https://localhost:8080/",
          "height": 609
        },
        "id": "L5JRgYzQIWs-",
        "outputId": "9051afcf-e31c-4961-9e22-2dd1f9a4c231"
      },
      "source": [
        "CA_data = data[data.county.isin([\"All CA Counties\"])]\n",
        "CA_data"
      ],
      "execution_count": null,
      "outputs": [
        {
          "output_type": "execute_result",
          "data": {
            "text/html": [
              "<div>\n",
              "<style scoped>\n",
              "    .dataframe tbody tr th:only-of-type {\n",
              "        vertical-align: middle;\n",
              "    }\n",
              "\n",
              "    .dataframe tbody tr th {\n",
              "        vertical-align: top;\n",
              "    }\n",
              "\n",
              "    .dataframe thead th {\n",
              "        text-align: right;\n",
              "    }\n",
              "</style>\n",
              "<table border=\"1\" class=\"dataframe\">\n",
              "  <thead>\n",
              "    <tr style=\"text-align: right;\">\n",
              "      <th></th>\n",
              "      <th>county</th>\n",
              "      <th>administered_date</th>\n",
              "      <th>total_doses</th>\n",
              "      <th>cumulative_total_doses</th>\n",
              "      <th>pfizer_doses</th>\n",
              "      <th>cumulative_pfizer_doses</th>\n",
              "      <th>moderna_doses</th>\n",
              "      <th>cumulative_moderna_doses</th>\n",
              "      <th>jj_doses</th>\n",
              "      <th>cumulative_jj_doses</th>\n",
              "      <th>partially_vaccinated</th>\n",
              "      <th>total_partially_vaccinated</th>\n",
              "      <th>fully_vaccinated</th>\n",
              "      <th>cumulative_fully_vaccinated</th>\n",
              "      <th>at_least_one_dose</th>\n",
              "      <th>cumulative_at_least_one_dose</th>\n",
              "      <th>california_flag</th>\n",
              "    </tr>\n",
              "  </thead>\n",
              "  <tbody>\n",
              "    <tr>\n",
              "      <th>0</th>\n",
              "      <td>All CA Counties</td>\n",
              "      <td>2020-12-15</td>\n",
              "      <td>1134</td>\n",
              "      <td>1134</td>\n",
              "      <td>1134</td>\n",
              "      <td>1134</td>\n",
              "      <td>0</td>\n",
              "      <td>0</td>\n",
              "      <td>0</td>\n",
              "      <td>0</td>\n",
              "      <td>1134</td>\n",
              "      <td>1134</td>\n",
              "      <td>0</td>\n",
              "      <td>0</td>\n",
              "      <td>1134</td>\n",
              "      <td>1134</td>\n",
              "      <td>NaN</td>\n",
              "    </tr>\n",
              "    <tr>\n",
              "      <th>1</th>\n",
              "      <td>All CA Counties</td>\n",
              "      <td>2020-12-16</td>\n",
              "      <td>8119</td>\n",
              "      <td>9253</td>\n",
              "      <td>8119</td>\n",
              "      <td>9253</td>\n",
              "      <td>0</td>\n",
              "      <td>0</td>\n",
              "      <td>0</td>\n",
              "      <td>0</td>\n",
              "      <td>8119</td>\n",
              "      <td>9253</td>\n",
              "      <td>0</td>\n",
              "      <td>0</td>\n",
              "      <td>8119</td>\n",
              "      <td>9253</td>\n",
              "      <td>NaN</td>\n",
              "    </tr>\n",
              "    <tr>\n",
              "      <th>2</th>\n",
              "      <td>All CA Counties</td>\n",
              "      <td>2020-12-17</td>\n",
              "      <td>25719</td>\n",
              "      <td>34972</td>\n",
              "      <td>25719</td>\n",
              "      <td>34972</td>\n",
              "      <td>0</td>\n",
              "      <td>0</td>\n",
              "      <td>0</td>\n",
              "      <td>0</td>\n",
              "      <td>25721</td>\n",
              "      <td>34974</td>\n",
              "      <td>0</td>\n",
              "      <td>0</td>\n",
              "      <td>25721</td>\n",
              "      <td>34974</td>\n",
              "      <td>NaN</td>\n",
              "    </tr>\n",
              "    <tr>\n",
              "      <th>3</th>\n",
              "      <td>All CA Counties</td>\n",
              "      <td>2020-12-18</td>\n",
              "      <td>43750</td>\n",
              "      <td>78722</td>\n",
              "      <td>43696</td>\n",
              "      <td>78668</td>\n",
              "      <td>54</td>\n",
              "      <td>54</td>\n",
              "      <td>0</td>\n",
              "      <td>0</td>\n",
              "      <td>43751</td>\n",
              "      <td>78725</td>\n",
              "      <td>0</td>\n",
              "      <td>0</td>\n",
              "      <td>43751</td>\n",
              "      <td>78725</td>\n",
              "      <td>NaN</td>\n",
              "    </tr>\n",
              "    <tr>\n",
              "      <th>4</th>\n",
              "      <td>All CA Counties</td>\n",
              "      <td>2020-12-19</td>\n",
              "      <td>25203</td>\n",
              "      <td>103925</td>\n",
              "      <td>25180</td>\n",
              "      <td>103848</td>\n",
              "      <td>23</td>\n",
              "      <td>77</td>\n",
              "      <td>0</td>\n",
              "      <td>0</td>\n",
              "      <td>25202</td>\n",
              "      <td>103926</td>\n",
              "      <td>1</td>\n",
              "      <td>1</td>\n",
              "      <td>25202</td>\n",
              "      <td>103927</td>\n",
              "      <td>NaN</td>\n",
              "    </tr>\n",
              "    <tr>\n",
              "      <th>...</th>\n",
              "      <td>...</td>\n",
              "      <td>...</td>\n",
              "      <td>...</td>\n",
              "      <td>...</td>\n",
              "      <td>...</td>\n",
              "      <td>...</td>\n",
              "      <td>...</td>\n",
              "      <td>...</td>\n",
              "      <td>...</td>\n",
              "      <td>...</td>\n",
              "      <td>...</td>\n",
              "      <td>...</td>\n",
              "      <td>...</td>\n",
              "      <td>...</td>\n",
              "      <td>...</td>\n",
              "      <td>...</td>\n",
              "      <td>...</td>\n",
              "    </tr>\n",
              "    <tr>\n",
              "      <th>140</th>\n",
              "      <td>All CA Counties</td>\n",
              "      <td>2021-05-04</td>\n",
              "      <td>319911</td>\n",
              "      <td>30899794</td>\n",
              "      <td>195409</td>\n",
              "      <td>16310852</td>\n",
              "      <td>115085</td>\n",
              "      <td>13478515</td>\n",
              "      <td>9417</td>\n",
              "      <td>1110427</td>\n",
              "      <td>94111</td>\n",
              "      <td>5672053</td>\n",
              "      <td>224856</td>\n",
              "      <td>13266319</td>\n",
              "      <td>104675</td>\n",
              "      <td>18938372</td>\n",
              "      <td>NaN</td>\n",
              "    </tr>\n",
              "    <tr>\n",
              "      <th>141</th>\n",
              "      <td>All CA Counties</td>\n",
              "      <td>2021-05-05</td>\n",
              "      <td>301909</td>\n",
              "      <td>31201703</td>\n",
              "      <td>192942</td>\n",
              "      <td>16503794</td>\n",
              "      <td>99333</td>\n",
              "      <td>13577848</td>\n",
              "      <td>9634</td>\n",
              "      <td>1120061</td>\n",
              "      <td>84948</td>\n",
              "      <td>5551663</td>\n",
              "      <td>215939</td>\n",
              "      <td>13482258</td>\n",
              "      <td>95549</td>\n",
              "      <td>19033921</td>\n",
              "      <td>NaN</td>\n",
              "    </tr>\n",
              "    <tr>\n",
              "      <th>142</th>\n",
              "      <td>All CA Counties</td>\n",
              "      <td>2021-05-06</td>\n",
              "      <td>306260</td>\n",
              "      <td>31507963</td>\n",
              "      <td>203094</td>\n",
              "      <td>16706888</td>\n",
              "      <td>93332</td>\n",
              "      <td>13671180</td>\n",
              "      <td>9834</td>\n",
              "      <td>1129895</td>\n",
              "      <td>77687</td>\n",
              "      <td>5413349</td>\n",
              "      <td>227515</td>\n",
              "      <td>13709773</td>\n",
              "      <td>89201</td>\n",
              "      <td>19123122</td>\n",
              "      <td>NaN</td>\n",
              "    </tr>\n",
              "    <tr>\n",
              "      <th>143</th>\n",
              "      <td>All CA Counties</td>\n",
              "      <td>2021-05-07</td>\n",
              "      <td>226575</td>\n",
              "      <td>31734538</td>\n",
              "      <td>144589</td>\n",
              "      <td>16851477</td>\n",
              "      <td>76911</td>\n",
              "      <td>13748091</td>\n",
              "      <td>5075</td>\n",
              "      <td>1134970</td>\n",
              "      <td>58503</td>\n",
              "      <td>5310513</td>\n",
              "      <td>167289</td>\n",
              "      <td>13877062</td>\n",
              "      <td>64453</td>\n",
              "      <td>19187575</td>\n",
              "      <td>NaN</td>\n",
              "    </tr>\n",
              "    <tr>\n",
              "      <th>144</th>\n",
              "      <td>All CA Counties</td>\n",
              "      <td>2021-05-08</td>\n",
              "      <td>134940</td>\n",
              "      <td>31869478</td>\n",
              "      <td>90385</td>\n",
              "      <td>16941862</td>\n",
              "      <td>41516</td>\n",
              "      <td>13789607</td>\n",
              "      <td>3039</td>\n",
              "      <td>1138009</td>\n",
              "      <td>28343</td>\n",
              "      <td>5239585</td>\n",
              "      <td>106145</td>\n",
              "      <td>13983207</td>\n",
              "      <td>35217</td>\n",
              "      <td>19222792</td>\n",
              "      <td>NaN</td>\n",
              "    </tr>\n",
              "  </tbody>\n",
              "</table>\n",
              "<p>145 rows × 17 columns</p>\n",
              "</div>"
            ],
            "text/plain": [
              "              county  ... california_flag\n",
              "0    All CA Counties  ...             NaN\n",
              "1    All CA Counties  ...             NaN\n",
              "2    All CA Counties  ...             NaN\n",
              "3    All CA Counties  ...             NaN\n",
              "4    All CA Counties  ...             NaN\n",
              "..               ...  ...             ...\n",
              "140  All CA Counties  ...             NaN\n",
              "141  All CA Counties  ...             NaN\n",
              "142  All CA Counties  ...             NaN\n",
              "143  All CA Counties  ...             NaN\n",
              "144  All CA Counties  ...             NaN\n",
              "\n",
              "[145 rows x 17 columns]"
            ]
          },
          "metadata": {
            "tags": []
          },
          "execution_count": 71
        }
      ]
    },
    {
      "cell_type": "markdown",
      "metadata": {
        "id": "LIM1zyx9MGuu"
      },
      "source": [
        "In the article \"Tracking coronavirus vaccinations in California\", the LA Times does not give us the population count of California used to calculate percentage. So here, we'll be using the number of 39,466,917 based on some web searches. Feel free to change this number based on other sources!\n"
      ]
    },
    {
      "cell_type": "code",
      "metadata": {
        "id": "Ko2rY46BMGRS"
      },
      "source": [
        "CA_pop = 39466917\n"
      ],
      "execution_count": null,
      "outputs": []
    },
    {
      "cell_type": "markdown",
      "metadata": {
        "id": "5DSqMzUTN1Dw"
      },
      "source": [
        "Here, we are calculating the percentage of those who have had at least one dose (this is for those who are partially vaccinated).\n",
        "\n"
      ]
    },
    {
      "cell_type": "code",
      "metadata": {
        "colab": {
          "base_uri": "https://localhost:8080/",
          "height": 813
        },
        "id": "ICCLK3cQMe0S",
        "outputId": "a87a9baa-3ebd-4cb2-85a8-0bd3f1c60e09"
      },
      "source": [
        "CA_data['partial_percent'] = CA_data['cumulative_at_least_one_dose'].div(CA_pop).mul(100)\n",
        "CA_data['partial_percent'] = round(CA_data['partial_percent'], 2)\n",
        "CA_data"
      ],
      "execution_count": null,
      "outputs": [
        {
          "output_type": "stream",
          "text": [
            "/usr/local/lib/python3.7/dist-packages/ipykernel_launcher.py:1: SettingWithCopyWarning: \n",
            "A value is trying to be set on a copy of a slice from a DataFrame.\n",
            "Try using .loc[row_indexer,col_indexer] = value instead\n",
            "\n",
            "See the caveats in the documentation: https://pandas.pydata.org/pandas-docs/stable/user_guide/indexing.html#returning-a-view-versus-a-copy\n",
            "  \"\"\"Entry point for launching an IPython kernel.\n",
            "/usr/local/lib/python3.7/dist-packages/ipykernel_launcher.py:2: SettingWithCopyWarning: \n",
            "A value is trying to be set on a copy of a slice from a DataFrame.\n",
            "Try using .loc[row_indexer,col_indexer] = value instead\n",
            "\n",
            "See the caveats in the documentation: https://pandas.pydata.org/pandas-docs/stable/user_guide/indexing.html#returning-a-view-versus-a-copy\n",
            "  \n"
          ],
          "name": "stderr"
        },
        {
          "output_type": "execute_result",
          "data": {
            "text/html": [
              "<div>\n",
              "<style scoped>\n",
              "    .dataframe tbody tr th:only-of-type {\n",
              "        vertical-align: middle;\n",
              "    }\n",
              "\n",
              "    .dataframe tbody tr th {\n",
              "        vertical-align: top;\n",
              "    }\n",
              "\n",
              "    .dataframe thead th {\n",
              "        text-align: right;\n",
              "    }\n",
              "</style>\n",
              "<table border=\"1\" class=\"dataframe\">\n",
              "  <thead>\n",
              "    <tr style=\"text-align: right;\">\n",
              "      <th></th>\n",
              "      <th>county</th>\n",
              "      <th>administered_date</th>\n",
              "      <th>total_doses</th>\n",
              "      <th>cumulative_total_doses</th>\n",
              "      <th>pfizer_doses</th>\n",
              "      <th>cumulative_pfizer_doses</th>\n",
              "      <th>moderna_doses</th>\n",
              "      <th>cumulative_moderna_doses</th>\n",
              "      <th>jj_doses</th>\n",
              "      <th>cumulative_jj_doses</th>\n",
              "      <th>partially_vaccinated</th>\n",
              "      <th>total_partially_vaccinated</th>\n",
              "      <th>fully_vaccinated</th>\n",
              "      <th>cumulative_fully_vaccinated</th>\n",
              "      <th>at_least_one_dose</th>\n",
              "      <th>cumulative_at_least_one_dose</th>\n",
              "      <th>california_flag</th>\n",
              "      <th>partial_percent</th>\n",
              "    </tr>\n",
              "  </thead>\n",
              "  <tbody>\n",
              "    <tr>\n",
              "      <th>0</th>\n",
              "      <td>All CA Counties</td>\n",
              "      <td>2020-12-15</td>\n",
              "      <td>1134</td>\n",
              "      <td>1134</td>\n",
              "      <td>1134</td>\n",
              "      <td>1134</td>\n",
              "      <td>0</td>\n",
              "      <td>0</td>\n",
              "      <td>0</td>\n",
              "      <td>0</td>\n",
              "      <td>1134</td>\n",
              "      <td>1134</td>\n",
              "      <td>0</td>\n",
              "      <td>0</td>\n",
              "      <td>1134</td>\n",
              "      <td>1134</td>\n",
              "      <td>NaN</td>\n",
              "      <td>0.00</td>\n",
              "    </tr>\n",
              "    <tr>\n",
              "      <th>1</th>\n",
              "      <td>All CA Counties</td>\n",
              "      <td>2020-12-16</td>\n",
              "      <td>8119</td>\n",
              "      <td>9253</td>\n",
              "      <td>8119</td>\n",
              "      <td>9253</td>\n",
              "      <td>0</td>\n",
              "      <td>0</td>\n",
              "      <td>0</td>\n",
              "      <td>0</td>\n",
              "      <td>8119</td>\n",
              "      <td>9253</td>\n",
              "      <td>0</td>\n",
              "      <td>0</td>\n",
              "      <td>8119</td>\n",
              "      <td>9253</td>\n",
              "      <td>NaN</td>\n",
              "      <td>0.02</td>\n",
              "    </tr>\n",
              "    <tr>\n",
              "      <th>2</th>\n",
              "      <td>All CA Counties</td>\n",
              "      <td>2020-12-17</td>\n",
              "      <td>25719</td>\n",
              "      <td>34972</td>\n",
              "      <td>25719</td>\n",
              "      <td>34972</td>\n",
              "      <td>0</td>\n",
              "      <td>0</td>\n",
              "      <td>0</td>\n",
              "      <td>0</td>\n",
              "      <td>25721</td>\n",
              "      <td>34974</td>\n",
              "      <td>0</td>\n",
              "      <td>0</td>\n",
              "      <td>25721</td>\n",
              "      <td>34974</td>\n",
              "      <td>NaN</td>\n",
              "      <td>0.09</td>\n",
              "    </tr>\n",
              "    <tr>\n",
              "      <th>3</th>\n",
              "      <td>All CA Counties</td>\n",
              "      <td>2020-12-18</td>\n",
              "      <td>43750</td>\n",
              "      <td>78722</td>\n",
              "      <td>43696</td>\n",
              "      <td>78668</td>\n",
              "      <td>54</td>\n",
              "      <td>54</td>\n",
              "      <td>0</td>\n",
              "      <td>0</td>\n",
              "      <td>43751</td>\n",
              "      <td>78725</td>\n",
              "      <td>0</td>\n",
              "      <td>0</td>\n",
              "      <td>43751</td>\n",
              "      <td>78725</td>\n",
              "      <td>NaN</td>\n",
              "      <td>0.20</td>\n",
              "    </tr>\n",
              "    <tr>\n",
              "      <th>4</th>\n",
              "      <td>All CA Counties</td>\n",
              "      <td>2020-12-19</td>\n",
              "      <td>25203</td>\n",
              "      <td>103925</td>\n",
              "      <td>25180</td>\n",
              "      <td>103848</td>\n",
              "      <td>23</td>\n",
              "      <td>77</td>\n",
              "      <td>0</td>\n",
              "      <td>0</td>\n",
              "      <td>25202</td>\n",
              "      <td>103926</td>\n",
              "      <td>1</td>\n",
              "      <td>1</td>\n",
              "      <td>25202</td>\n",
              "      <td>103927</td>\n",
              "      <td>NaN</td>\n",
              "      <td>0.26</td>\n",
              "    </tr>\n",
              "    <tr>\n",
              "      <th>...</th>\n",
              "      <td>...</td>\n",
              "      <td>...</td>\n",
              "      <td>...</td>\n",
              "      <td>...</td>\n",
              "      <td>...</td>\n",
              "      <td>...</td>\n",
              "      <td>...</td>\n",
              "      <td>...</td>\n",
              "      <td>...</td>\n",
              "      <td>...</td>\n",
              "      <td>...</td>\n",
              "      <td>...</td>\n",
              "      <td>...</td>\n",
              "      <td>...</td>\n",
              "      <td>...</td>\n",
              "      <td>...</td>\n",
              "      <td>...</td>\n",
              "      <td>...</td>\n",
              "    </tr>\n",
              "    <tr>\n",
              "      <th>140</th>\n",
              "      <td>All CA Counties</td>\n",
              "      <td>2021-05-04</td>\n",
              "      <td>319911</td>\n",
              "      <td>30899794</td>\n",
              "      <td>195409</td>\n",
              "      <td>16310852</td>\n",
              "      <td>115085</td>\n",
              "      <td>13478515</td>\n",
              "      <td>9417</td>\n",
              "      <td>1110427</td>\n",
              "      <td>94111</td>\n",
              "      <td>5672053</td>\n",
              "      <td>224856</td>\n",
              "      <td>13266319</td>\n",
              "      <td>104675</td>\n",
              "      <td>18938372</td>\n",
              "      <td>NaN</td>\n",
              "      <td>47.99</td>\n",
              "    </tr>\n",
              "    <tr>\n",
              "      <th>141</th>\n",
              "      <td>All CA Counties</td>\n",
              "      <td>2021-05-05</td>\n",
              "      <td>301909</td>\n",
              "      <td>31201703</td>\n",
              "      <td>192942</td>\n",
              "      <td>16503794</td>\n",
              "      <td>99333</td>\n",
              "      <td>13577848</td>\n",
              "      <td>9634</td>\n",
              "      <td>1120061</td>\n",
              "      <td>84948</td>\n",
              "      <td>5551663</td>\n",
              "      <td>215939</td>\n",
              "      <td>13482258</td>\n",
              "      <td>95549</td>\n",
              "      <td>19033921</td>\n",
              "      <td>NaN</td>\n",
              "      <td>48.23</td>\n",
              "    </tr>\n",
              "    <tr>\n",
              "      <th>142</th>\n",
              "      <td>All CA Counties</td>\n",
              "      <td>2021-05-06</td>\n",
              "      <td>306260</td>\n",
              "      <td>31507963</td>\n",
              "      <td>203094</td>\n",
              "      <td>16706888</td>\n",
              "      <td>93332</td>\n",
              "      <td>13671180</td>\n",
              "      <td>9834</td>\n",
              "      <td>1129895</td>\n",
              "      <td>77687</td>\n",
              "      <td>5413349</td>\n",
              "      <td>227515</td>\n",
              "      <td>13709773</td>\n",
              "      <td>89201</td>\n",
              "      <td>19123122</td>\n",
              "      <td>NaN</td>\n",
              "      <td>48.45</td>\n",
              "    </tr>\n",
              "    <tr>\n",
              "      <th>143</th>\n",
              "      <td>All CA Counties</td>\n",
              "      <td>2021-05-07</td>\n",
              "      <td>226575</td>\n",
              "      <td>31734538</td>\n",
              "      <td>144589</td>\n",
              "      <td>16851477</td>\n",
              "      <td>76911</td>\n",
              "      <td>13748091</td>\n",
              "      <td>5075</td>\n",
              "      <td>1134970</td>\n",
              "      <td>58503</td>\n",
              "      <td>5310513</td>\n",
              "      <td>167289</td>\n",
              "      <td>13877062</td>\n",
              "      <td>64453</td>\n",
              "      <td>19187575</td>\n",
              "      <td>NaN</td>\n",
              "      <td>48.62</td>\n",
              "    </tr>\n",
              "    <tr>\n",
              "      <th>144</th>\n",
              "      <td>All CA Counties</td>\n",
              "      <td>2021-05-08</td>\n",
              "      <td>134940</td>\n",
              "      <td>31869478</td>\n",
              "      <td>90385</td>\n",
              "      <td>16941862</td>\n",
              "      <td>41516</td>\n",
              "      <td>13789607</td>\n",
              "      <td>3039</td>\n",
              "      <td>1138009</td>\n",
              "      <td>28343</td>\n",
              "      <td>5239585</td>\n",
              "      <td>106145</td>\n",
              "      <td>13983207</td>\n",
              "      <td>35217</td>\n",
              "      <td>19222792</td>\n",
              "      <td>NaN</td>\n",
              "      <td>48.71</td>\n",
              "    </tr>\n",
              "  </tbody>\n",
              "</table>\n",
              "<p>145 rows × 18 columns</p>\n",
              "</div>"
            ],
            "text/plain": [
              "              county administered_date  ...  california_flag  partial_percent\n",
              "0    All CA Counties        2020-12-15  ...              NaN             0.00\n",
              "1    All CA Counties        2020-12-16  ...              NaN             0.02\n",
              "2    All CA Counties        2020-12-17  ...              NaN             0.09\n",
              "3    All CA Counties        2020-12-18  ...              NaN             0.20\n",
              "4    All CA Counties        2020-12-19  ...              NaN             0.26\n",
              "..               ...               ...  ...              ...              ...\n",
              "140  All CA Counties        2021-05-04  ...              NaN            47.99\n",
              "141  All CA Counties        2021-05-05  ...              NaN            48.23\n",
              "142  All CA Counties        2021-05-06  ...              NaN            48.45\n",
              "143  All CA Counties        2021-05-07  ...              NaN            48.62\n",
              "144  All CA Counties        2021-05-08  ...              NaN            48.71\n",
              "\n",
              "[145 rows x 18 columns]"
            ]
          },
          "metadata": {
            "tags": []
          },
          "execution_count": 91
        }
      ]
    },
    {
      "cell_type": "markdown",
      "metadata": {
        "id": "1dKhuOHBPaWx"
      },
      "source": [
        "Here, we are calculating the percentage of those who are fully vaccinated.\n",
        "\n"
      ]
    },
    {
      "cell_type": "code",
      "metadata": {
        "colab": {
          "base_uri": "https://localhost:8080/",
          "height": 813
        },
        "id": "g-X3d5WjPaIW",
        "outputId": "e9ab4f64-d5f6-45a8-944c-9408eedc43b5"
      },
      "source": [
        "CA_data['fully_percent'] = CA_data['cumulative_fully_vaccinated'].div(CA_pop).mul(100)\n",
        "CA_data['fully_percent'] = round(CA_data['fully_percent'], 2)\n",
        "CA_data"
      ],
      "execution_count": null,
      "outputs": [
        {
          "output_type": "stream",
          "text": [
            "/usr/local/lib/python3.7/dist-packages/ipykernel_launcher.py:1: SettingWithCopyWarning: \n",
            "A value is trying to be set on a copy of a slice from a DataFrame.\n",
            "Try using .loc[row_indexer,col_indexer] = value instead\n",
            "\n",
            "See the caveats in the documentation: https://pandas.pydata.org/pandas-docs/stable/user_guide/indexing.html#returning-a-view-versus-a-copy\n",
            "  \"\"\"Entry point for launching an IPython kernel.\n",
            "/usr/local/lib/python3.7/dist-packages/ipykernel_launcher.py:2: SettingWithCopyWarning: \n",
            "A value is trying to be set on a copy of a slice from a DataFrame.\n",
            "Try using .loc[row_indexer,col_indexer] = value instead\n",
            "\n",
            "See the caveats in the documentation: https://pandas.pydata.org/pandas-docs/stable/user_guide/indexing.html#returning-a-view-versus-a-copy\n",
            "  \n"
          ],
          "name": "stderr"
        },
        {
          "output_type": "execute_result",
          "data": {
            "text/html": [
              "<div>\n",
              "<style scoped>\n",
              "    .dataframe tbody tr th:only-of-type {\n",
              "        vertical-align: middle;\n",
              "    }\n",
              "\n",
              "    .dataframe tbody tr th {\n",
              "        vertical-align: top;\n",
              "    }\n",
              "\n",
              "    .dataframe thead th {\n",
              "        text-align: right;\n",
              "    }\n",
              "</style>\n",
              "<table border=\"1\" class=\"dataframe\">\n",
              "  <thead>\n",
              "    <tr style=\"text-align: right;\">\n",
              "      <th></th>\n",
              "      <th>county</th>\n",
              "      <th>administered_date</th>\n",
              "      <th>total_doses</th>\n",
              "      <th>cumulative_total_doses</th>\n",
              "      <th>pfizer_doses</th>\n",
              "      <th>cumulative_pfizer_doses</th>\n",
              "      <th>moderna_doses</th>\n",
              "      <th>cumulative_moderna_doses</th>\n",
              "      <th>jj_doses</th>\n",
              "      <th>cumulative_jj_doses</th>\n",
              "      <th>partially_vaccinated</th>\n",
              "      <th>total_partially_vaccinated</th>\n",
              "      <th>fully_vaccinated</th>\n",
              "      <th>cumulative_fully_vaccinated</th>\n",
              "      <th>at_least_one_dose</th>\n",
              "      <th>cumulative_at_least_one_dose</th>\n",
              "      <th>california_flag</th>\n",
              "      <th>partial_percent</th>\n",
              "      <th>fully_percent</th>\n",
              "    </tr>\n",
              "  </thead>\n",
              "  <tbody>\n",
              "    <tr>\n",
              "      <th>0</th>\n",
              "      <td>All CA Counties</td>\n",
              "      <td>2020-12-15</td>\n",
              "      <td>1134</td>\n",
              "      <td>1134</td>\n",
              "      <td>1134</td>\n",
              "      <td>1134</td>\n",
              "      <td>0</td>\n",
              "      <td>0</td>\n",
              "      <td>0</td>\n",
              "      <td>0</td>\n",
              "      <td>1134</td>\n",
              "      <td>1134</td>\n",
              "      <td>0</td>\n",
              "      <td>0</td>\n",
              "      <td>1134</td>\n",
              "      <td>1134</td>\n",
              "      <td>NaN</td>\n",
              "      <td>0.00</td>\n",
              "      <td>0.00</td>\n",
              "    </tr>\n",
              "    <tr>\n",
              "      <th>1</th>\n",
              "      <td>All CA Counties</td>\n",
              "      <td>2020-12-16</td>\n",
              "      <td>8119</td>\n",
              "      <td>9253</td>\n",
              "      <td>8119</td>\n",
              "      <td>9253</td>\n",
              "      <td>0</td>\n",
              "      <td>0</td>\n",
              "      <td>0</td>\n",
              "      <td>0</td>\n",
              "      <td>8119</td>\n",
              "      <td>9253</td>\n",
              "      <td>0</td>\n",
              "      <td>0</td>\n",
              "      <td>8119</td>\n",
              "      <td>9253</td>\n",
              "      <td>NaN</td>\n",
              "      <td>0.02</td>\n",
              "      <td>0.00</td>\n",
              "    </tr>\n",
              "    <tr>\n",
              "      <th>2</th>\n",
              "      <td>All CA Counties</td>\n",
              "      <td>2020-12-17</td>\n",
              "      <td>25719</td>\n",
              "      <td>34972</td>\n",
              "      <td>25719</td>\n",
              "      <td>34972</td>\n",
              "      <td>0</td>\n",
              "      <td>0</td>\n",
              "      <td>0</td>\n",
              "      <td>0</td>\n",
              "      <td>25721</td>\n",
              "      <td>34974</td>\n",
              "      <td>0</td>\n",
              "      <td>0</td>\n",
              "      <td>25721</td>\n",
              "      <td>34974</td>\n",
              "      <td>NaN</td>\n",
              "      <td>0.09</td>\n",
              "      <td>0.00</td>\n",
              "    </tr>\n",
              "    <tr>\n",
              "      <th>3</th>\n",
              "      <td>All CA Counties</td>\n",
              "      <td>2020-12-18</td>\n",
              "      <td>43750</td>\n",
              "      <td>78722</td>\n",
              "      <td>43696</td>\n",
              "      <td>78668</td>\n",
              "      <td>54</td>\n",
              "      <td>54</td>\n",
              "      <td>0</td>\n",
              "      <td>0</td>\n",
              "      <td>43751</td>\n",
              "      <td>78725</td>\n",
              "      <td>0</td>\n",
              "      <td>0</td>\n",
              "      <td>43751</td>\n",
              "      <td>78725</td>\n",
              "      <td>NaN</td>\n",
              "      <td>0.20</td>\n",
              "      <td>0.00</td>\n",
              "    </tr>\n",
              "    <tr>\n",
              "      <th>4</th>\n",
              "      <td>All CA Counties</td>\n",
              "      <td>2020-12-19</td>\n",
              "      <td>25203</td>\n",
              "      <td>103925</td>\n",
              "      <td>25180</td>\n",
              "      <td>103848</td>\n",
              "      <td>23</td>\n",
              "      <td>77</td>\n",
              "      <td>0</td>\n",
              "      <td>0</td>\n",
              "      <td>25202</td>\n",
              "      <td>103926</td>\n",
              "      <td>1</td>\n",
              "      <td>1</td>\n",
              "      <td>25202</td>\n",
              "      <td>103927</td>\n",
              "      <td>NaN</td>\n",
              "      <td>0.26</td>\n",
              "      <td>0.00</td>\n",
              "    </tr>\n",
              "    <tr>\n",
              "      <th>...</th>\n",
              "      <td>...</td>\n",
              "      <td>...</td>\n",
              "      <td>...</td>\n",
              "      <td>...</td>\n",
              "      <td>...</td>\n",
              "      <td>...</td>\n",
              "      <td>...</td>\n",
              "      <td>...</td>\n",
              "      <td>...</td>\n",
              "      <td>...</td>\n",
              "      <td>...</td>\n",
              "      <td>...</td>\n",
              "      <td>...</td>\n",
              "      <td>...</td>\n",
              "      <td>...</td>\n",
              "      <td>...</td>\n",
              "      <td>...</td>\n",
              "      <td>...</td>\n",
              "      <td>...</td>\n",
              "    </tr>\n",
              "    <tr>\n",
              "      <th>140</th>\n",
              "      <td>All CA Counties</td>\n",
              "      <td>2021-05-04</td>\n",
              "      <td>319911</td>\n",
              "      <td>30899794</td>\n",
              "      <td>195409</td>\n",
              "      <td>16310852</td>\n",
              "      <td>115085</td>\n",
              "      <td>13478515</td>\n",
              "      <td>9417</td>\n",
              "      <td>1110427</td>\n",
              "      <td>94111</td>\n",
              "      <td>5672053</td>\n",
              "      <td>224856</td>\n",
              "      <td>13266319</td>\n",
              "      <td>104675</td>\n",
              "      <td>18938372</td>\n",
              "      <td>NaN</td>\n",
              "      <td>47.99</td>\n",
              "      <td>33.61</td>\n",
              "    </tr>\n",
              "    <tr>\n",
              "      <th>141</th>\n",
              "      <td>All CA Counties</td>\n",
              "      <td>2021-05-05</td>\n",
              "      <td>301909</td>\n",
              "      <td>31201703</td>\n",
              "      <td>192942</td>\n",
              "      <td>16503794</td>\n",
              "      <td>99333</td>\n",
              "      <td>13577848</td>\n",
              "      <td>9634</td>\n",
              "      <td>1120061</td>\n",
              "      <td>84948</td>\n",
              "      <td>5551663</td>\n",
              "      <td>215939</td>\n",
              "      <td>13482258</td>\n",
              "      <td>95549</td>\n",
              "      <td>19033921</td>\n",
              "      <td>NaN</td>\n",
              "      <td>48.23</td>\n",
              "      <td>34.16</td>\n",
              "    </tr>\n",
              "    <tr>\n",
              "      <th>142</th>\n",
              "      <td>All CA Counties</td>\n",
              "      <td>2021-05-06</td>\n",
              "      <td>306260</td>\n",
              "      <td>31507963</td>\n",
              "      <td>203094</td>\n",
              "      <td>16706888</td>\n",
              "      <td>93332</td>\n",
              "      <td>13671180</td>\n",
              "      <td>9834</td>\n",
              "      <td>1129895</td>\n",
              "      <td>77687</td>\n",
              "      <td>5413349</td>\n",
              "      <td>227515</td>\n",
              "      <td>13709773</td>\n",
              "      <td>89201</td>\n",
              "      <td>19123122</td>\n",
              "      <td>NaN</td>\n",
              "      <td>48.45</td>\n",
              "      <td>34.74</td>\n",
              "    </tr>\n",
              "    <tr>\n",
              "      <th>143</th>\n",
              "      <td>All CA Counties</td>\n",
              "      <td>2021-05-07</td>\n",
              "      <td>226575</td>\n",
              "      <td>31734538</td>\n",
              "      <td>144589</td>\n",
              "      <td>16851477</td>\n",
              "      <td>76911</td>\n",
              "      <td>13748091</td>\n",
              "      <td>5075</td>\n",
              "      <td>1134970</td>\n",
              "      <td>58503</td>\n",
              "      <td>5310513</td>\n",
              "      <td>167289</td>\n",
              "      <td>13877062</td>\n",
              "      <td>64453</td>\n",
              "      <td>19187575</td>\n",
              "      <td>NaN</td>\n",
              "      <td>48.62</td>\n",
              "      <td>35.16</td>\n",
              "    </tr>\n",
              "    <tr>\n",
              "      <th>144</th>\n",
              "      <td>All CA Counties</td>\n",
              "      <td>2021-05-08</td>\n",
              "      <td>134940</td>\n",
              "      <td>31869478</td>\n",
              "      <td>90385</td>\n",
              "      <td>16941862</td>\n",
              "      <td>41516</td>\n",
              "      <td>13789607</td>\n",
              "      <td>3039</td>\n",
              "      <td>1138009</td>\n",
              "      <td>28343</td>\n",
              "      <td>5239585</td>\n",
              "      <td>106145</td>\n",
              "      <td>13983207</td>\n",
              "      <td>35217</td>\n",
              "      <td>19222792</td>\n",
              "      <td>NaN</td>\n",
              "      <td>48.71</td>\n",
              "      <td>35.43</td>\n",
              "    </tr>\n",
              "  </tbody>\n",
              "</table>\n",
              "<p>145 rows × 19 columns</p>\n",
              "</div>"
            ],
            "text/plain": [
              "              county administered_date  ...  partial_percent  fully_percent\n",
              "0    All CA Counties        2020-12-15  ...             0.00           0.00\n",
              "1    All CA Counties        2020-12-16  ...             0.02           0.00\n",
              "2    All CA Counties        2020-12-17  ...             0.09           0.00\n",
              "3    All CA Counties        2020-12-18  ...             0.20           0.00\n",
              "4    All CA Counties        2020-12-19  ...             0.26           0.00\n",
              "..               ...               ...  ...              ...            ...\n",
              "140  All CA Counties        2021-05-04  ...            47.99          33.61\n",
              "141  All CA Counties        2021-05-05  ...            48.23          34.16\n",
              "142  All CA Counties        2021-05-06  ...            48.45          34.74\n",
              "143  All CA Counties        2021-05-07  ...            48.62          35.16\n",
              "144  All CA Counties        2021-05-08  ...            48.71          35.43\n",
              "\n",
              "[145 rows x 19 columns]"
            ]
          },
          "metadata": {
            "tags": []
          },
          "execution_count": 92
        }
      ]
    },
    {
      "cell_type": "markdown",
      "metadata": {
        "id": "Vu_wHUcZP9Ye"
      },
      "source": [
        "## Question\n",
        "Take a look at the new percentages columns in the dataset (particularly the last one). Compare it to the percentages in the pdf (49.1% of residents have received at least one dose and 35.7% are fully vaccinated). Our percentages are close, but why do you think the calculations might differ from each other?\n"
      ]
    },
    {
      "cell_type": "markdown",
      "metadata": {
        "id": "vbtt3c7lWDXp"
      },
      "source": [
        "# Calculating the rolling means for the doses administered (for plot 2)\n",
        "\n",
        "In the article, you'll notice that they don't just plot the numbers of doses administed, but they include a summary lines of the rolling averages over 7 days.\n",
        "\n",
        "A rolling mean is an average for a window of data, where the window is a series of sequential values from the data. we will be using the `rolling()` function from pandas to do the following calculations. We're going to use the default setting and use `min_periods=1`. After creating our second plot, you can change the setting if you want it to match more closely to the LA Times plot.\n",
        "\n",
        "Documentation for the `rolling()` function https://pandas.pydata.org/docs/reference/api/pandas.DataFrame.rolling.html"
      ]
    },
    {
      "cell_type": "code",
      "metadata": {
        "colab": {
          "base_uri": "https://localhost:8080/",
          "height": 813
        },
        "id": "HghyDesaXj-Q",
        "outputId": "0ff887b8-c68e-48bf-e6bd-d5df4c55ec19"
      },
      "source": [
        "CA_data['wk_avg'] = CA_data['total_doses'].rolling(7, min_periods=1).mean()\n",
        "CA_data['wk_avg'] = round(CA_data['wk_avg'], 0)\n",
        "CA_data"
      ],
      "execution_count": null,
      "outputs": [
        {
          "output_type": "stream",
          "text": [
            "/usr/local/lib/python3.7/dist-packages/ipykernel_launcher.py:1: SettingWithCopyWarning: \n",
            "A value is trying to be set on a copy of a slice from a DataFrame.\n",
            "Try using .loc[row_indexer,col_indexer] = value instead\n",
            "\n",
            "See the caveats in the documentation: https://pandas.pydata.org/pandas-docs/stable/user_guide/indexing.html#returning-a-view-versus-a-copy\n",
            "  \"\"\"Entry point for launching an IPython kernel.\n",
            "/usr/local/lib/python3.7/dist-packages/ipykernel_launcher.py:2: SettingWithCopyWarning: \n",
            "A value is trying to be set on a copy of a slice from a DataFrame.\n",
            "Try using .loc[row_indexer,col_indexer] = value instead\n",
            "\n",
            "See the caveats in the documentation: https://pandas.pydata.org/pandas-docs/stable/user_guide/indexing.html#returning-a-view-versus-a-copy\n",
            "  \n"
          ],
          "name": "stderr"
        },
        {
          "output_type": "execute_result",
          "data": {
            "text/html": [
              "<div>\n",
              "<style scoped>\n",
              "    .dataframe tbody tr th:only-of-type {\n",
              "        vertical-align: middle;\n",
              "    }\n",
              "\n",
              "    .dataframe tbody tr th {\n",
              "        vertical-align: top;\n",
              "    }\n",
              "\n",
              "    .dataframe thead th {\n",
              "        text-align: right;\n",
              "    }\n",
              "</style>\n",
              "<table border=\"1\" class=\"dataframe\">\n",
              "  <thead>\n",
              "    <tr style=\"text-align: right;\">\n",
              "      <th></th>\n",
              "      <th>county</th>\n",
              "      <th>administered_date</th>\n",
              "      <th>total_doses</th>\n",
              "      <th>cumulative_total_doses</th>\n",
              "      <th>pfizer_doses</th>\n",
              "      <th>cumulative_pfizer_doses</th>\n",
              "      <th>moderna_doses</th>\n",
              "      <th>cumulative_moderna_doses</th>\n",
              "      <th>jj_doses</th>\n",
              "      <th>cumulative_jj_doses</th>\n",
              "      <th>partially_vaccinated</th>\n",
              "      <th>total_partially_vaccinated</th>\n",
              "      <th>fully_vaccinated</th>\n",
              "      <th>cumulative_fully_vaccinated</th>\n",
              "      <th>at_least_one_dose</th>\n",
              "      <th>cumulative_at_least_one_dose</th>\n",
              "      <th>california_flag</th>\n",
              "      <th>partial_percent</th>\n",
              "      <th>fully_percent</th>\n",
              "      <th>wk_avg</th>\n",
              "    </tr>\n",
              "  </thead>\n",
              "  <tbody>\n",
              "    <tr>\n",
              "      <th>0</th>\n",
              "      <td>All CA Counties</td>\n",
              "      <td>2020-12-15</td>\n",
              "      <td>1134</td>\n",
              "      <td>1134</td>\n",
              "      <td>1134</td>\n",
              "      <td>1134</td>\n",
              "      <td>0</td>\n",
              "      <td>0</td>\n",
              "      <td>0</td>\n",
              "      <td>0</td>\n",
              "      <td>1134</td>\n",
              "      <td>1134</td>\n",
              "      <td>0</td>\n",
              "      <td>0</td>\n",
              "      <td>1134</td>\n",
              "      <td>1134</td>\n",
              "      <td>NaN</td>\n",
              "      <td>0.00</td>\n",
              "      <td>0.00</td>\n",
              "      <td>1134.0</td>\n",
              "    </tr>\n",
              "    <tr>\n",
              "      <th>1</th>\n",
              "      <td>All CA Counties</td>\n",
              "      <td>2020-12-16</td>\n",
              "      <td>8119</td>\n",
              "      <td>9253</td>\n",
              "      <td>8119</td>\n",
              "      <td>9253</td>\n",
              "      <td>0</td>\n",
              "      <td>0</td>\n",
              "      <td>0</td>\n",
              "      <td>0</td>\n",
              "      <td>8119</td>\n",
              "      <td>9253</td>\n",
              "      <td>0</td>\n",
              "      <td>0</td>\n",
              "      <td>8119</td>\n",
              "      <td>9253</td>\n",
              "      <td>NaN</td>\n",
              "      <td>0.02</td>\n",
              "      <td>0.00</td>\n",
              "      <td>4626.0</td>\n",
              "    </tr>\n",
              "    <tr>\n",
              "      <th>2</th>\n",
              "      <td>All CA Counties</td>\n",
              "      <td>2020-12-17</td>\n",
              "      <td>25719</td>\n",
              "      <td>34972</td>\n",
              "      <td>25719</td>\n",
              "      <td>34972</td>\n",
              "      <td>0</td>\n",
              "      <td>0</td>\n",
              "      <td>0</td>\n",
              "      <td>0</td>\n",
              "      <td>25721</td>\n",
              "      <td>34974</td>\n",
              "      <td>0</td>\n",
              "      <td>0</td>\n",
              "      <td>25721</td>\n",
              "      <td>34974</td>\n",
              "      <td>NaN</td>\n",
              "      <td>0.09</td>\n",
              "      <td>0.00</td>\n",
              "      <td>11657.0</td>\n",
              "    </tr>\n",
              "    <tr>\n",
              "      <th>3</th>\n",
              "      <td>All CA Counties</td>\n",
              "      <td>2020-12-18</td>\n",
              "      <td>43750</td>\n",
              "      <td>78722</td>\n",
              "      <td>43696</td>\n",
              "      <td>78668</td>\n",
              "      <td>54</td>\n",
              "      <td>54</td>\n",
              "      <td>0</td>\n",
              "      <td>0</td>\n",
              "      <td>43751</td>\n",
              "      <td>78725</td>\n",
              "      <td>0</td>\n",
              "      <td>0</td>\n",
              "      <td>43751</td>\n",
              "      <td>78725</td>\n",
              "      <td>NaN</td>\n",
              "      <td>0.20</td>\n",
              "      <td>0.00</td>\n",
              "      <td>19680.0</td>\n",
              "    </tr>\n",
              "    <tr>\n",
              "      <th>4</th>\n",
              "      <td>All CA Counties</td>\n",
              "      <td>2020-12-19</td>\n",
              "      <td>25203</td>\n",
              "      <td>103925</td>\n",
              "      <td>25180</td>\n",
              "      <td>103848</td>\n",
              "      <td>23</td>\n",
              "      <td>77</td>\n",
              "      <td>0</td>\n",
              "      <td>0</td>\n",
              "      <td>25202</td>\n",
              "      <td>103926</td>\n",
              "      <td>1</td>\n",
              "      <td>1</td>\n",
              "      <td>25202</td>\n",
              "      <td>103927</td>\n",
              "      <td>NaN</td>\n",
              "      <td>0.26</td>\n",
              "      <td>0.00</td>\n",
              "      <td>20785.0</td>\n",
              "    </tr>\n",
              "    <tr>\n",
              "      <th>...</th>\n",
              "      <td>...</td>\n",
              "      <td>...</td>\n",
              "      <td>...</td>\n",
              "      <td>...</td>\n",
              "      <td>...</td>\n",
              "      <td>...</td>\n",
              "      <td>...</td>\n",
              "      <td>...</td>\n",
              "      <td>...</td>\n",
              "      <td>...</td>\n",
              "      <td>...</td>\n",
              "      <td>...</td>\n",
              "      <td>...</td>\n",
              "      <td>...</td>\n",
              "      <td>...</td>\n",
              "      <td>...</td>\n",
              "      <td>...</td>\n",
              "      <td>...</td>\n",
              "      <td>...</td>\n",
              "      <td>...</td>\n",
              "    </tr>\n",
              "    <tr>\n",
              "      <th>140</th>\n",
              "      <td>All CA Counties</td>\n",
              "      <td>2021-05-04</td>\n",
              "      <td>319911</td>\n",
              "      <td>30899794</td>\n",
              "      <td>195409</td>\n",
              "      <td>16310852</td>\n",
              "      <td>115085</td>\n",
              "      <td>13478515</td>\n",
              "      <td>9417</td>\n",
              "      <td>1110427</td>\n",
              "      <td>94111</td>\n",
              "      <td>5672053</td>\n",
              "      <td>224856</td>\n",
              "      <td>13266319</td>\n",
              "      <td>104675</td>\n",
              "      <td>18938372</td>\n",
              "      <td>NaN</td>\n",
              "      <td>47.99</td>\n",
              "      <td>33.61</td>\n",
              "      <td>282925.0</td>\n",
              "    </tr>\n",
              "    <tr>\n",
              "      <th>141</th>\n",
              "      <td>All CA Counties</td>\n",
              "      <td>2021-05-05</td>\n",
              "      <td>301909</td>\n",
              "      <td>31201703</td>\n",
              "      <td>192942</td>\n",
              "      <td>16503794</td>\n",
              "      <td>99333</td>\n",
              "      <td>13577848</td>\n",
              "      <td>9634</td>\n",
              "      <td>1120061</td>\n",
              "      <td>84948</td>\n",
              "      <td>5551663</td>\n",
              "      <td>215939</td>\n",
              "      <td>13482258</td>\n",
              "      <td>95549</td>\n",
              "      <td>19033921</td>\n",
              "      <td>NaN</td>\n",
              "      <td>48.23</td>\n",
              "      <td>34.16</td>\n",
              "      <td>276980.0</td>\n",
              "    </tr>\n",
              "    <tr>\n",
              "      <th>142</th>\n",
              "      <td>All CA Counties</td>\n",
              "      <td>2021-05-06</td>\n",
              "      <td>306260</td>\n",
              "      <td>31507963</td>\n",
              "      <td>203094</td>\n",
              "      <td>16706888</td>\n",
              "      <td>93332</td>\n",
              "      <td>13671180</td>\n",
              "      <td>9834</td>\n",
              "      <td>1129895</td>\n",
              "      <td>77687</td>\n",
              "      <td>5413349</td>\n",
              "      <td>227515</td>\n",
              "      <td>13709773</td>\n",
              "      <td>89201</td>\n",
              "      <td>19123122</td>\n",
              "      <td>NaN</td>\n",
              "      <td>48.45</td>\n",
              "      <td>34.74</td>\n",
              "      <td>270595.0</td>\n",
              "    </tr>\n",
              "    <tr>\n",
              "      <th>143</th>\n",
              "      <td>All CA Counties</td>\n",
              "      <td>2021-05-07</td>\n",
              "      <td>226575</td>\n",
              "      <td>31734538</td>\n",
              "      <td>144589</td>\n",
              "      <td>16851477</td>\n",
              "      <td>76911</td>\n",
              "      <td>13748091</td>\n",
              "      <td>5075</td>\n",
              "      <td>1134970</td>\n",
              "      <td>58503</td>\n",
              "      <td>5310513</td>\n",
              "      <td>167289</td>\n",
              "      <td>13877062</td>\n",
              "      <td>64453</td>\n",
              "      <td>19187575</td>\n",
              "      <td>NaN</td>\n",
              "      <td>48.62</td>\n",
              "      <td>35.16</td>\n",
              "      <td>251076.0</td>\n",
              "    </tr>\n",
              "    <tr>\n",
              "      <th>144</th>\n",
              "      <td>All CA Counties</td>\n",
              "      <td>2021-05-08</td>\n",
              "      <td>134940</td>\n",
              "      <td>31869478</td>\n",
              "      <td>90385</td>\n",
              "      <td>16941862</td>\n",
              "      <td>41516</td>\n",
              "      <td>13789607</td>\n",
              "      <td>3039</td>\n",
              "      <td>1138009</td>\n",
              "      <td>28343</td>\n",
              "      <td>5239585</td>\n",
              "      <td>106145</td>\n",
              "      <td>13983207</td>\n",
              "      <td>35217</td>\n",
              "      <td>19222792</td>\n",
              "      <td>NaN</td>\n",
              "      <td>48.71</td>\n",
              "      <td>35.43</td>\n",
              "      <td>235653.0</td>\n",
              "    </tr>\n",
              "  </tbody>\n",
              "</table>\n",
              "<p>145 rows × 20 columns</p>\n",
              "</div>"
            ],
            "text/plain": [
              "              county administered_date  ...  fully_percent    wk_avg\n",
              "0    All CA Counties        2020-12-15  ...           0.00    1134.0\n",
              "1    All CA Counties        2020-12-16  ...           0.00    4626.0\n",
              "2    All CA Counties        2020-12-17  ...           0.00   11657.0\n",
              "3    All CA Counties        2020-12-18  ...           0.00   19680.0\n",
              "4    All CA Counties        2020-12-19  ...           0.00   20785.0\n",
              "..               ...               ...  ...            ...       ...\n",
              "140  All CA Counties        2021-05-04  ...          33.61  282925.0\n",
              "141  All CA Counties        2021-05-05  ...          34.16  276980.0\n",
              "142  All CA Counties        2021-05-06  ...          34.74  270595.0\n",
              "143  All CA Counties        2021-05-07  ...          35.16  251076.0\n",
              "144  All CA Counties        2021-05-08  ...          35.43  235653.0\n",
              "\n",
              "[145 rows x 20 columns]"
            ]
          },
          "metadata": {
            "tags": []
          },
          "execution_count": 115
        }
      ]
    },
    {
      "cell_type": "markdown",
      "metadata": {
        "id": "NzVc3i8tQKOm"
      },
      "source": [
        "# Recreating the plots by the LA Times\n"
      ]
    },
    {
      "cell_type": "markdown",
      "metadata": {
        "id": "1pSIcAjFQMhc"
      },
      "source": [
        "## Plot 1: Percentages vaccinated\n",
        "\n",
        "Here we will use the plotnine library which uses R's ggplot library. There are many different libraries you can use!\n",
        "\n",
        "Something to keep in mind about plotnine/ggplot is it's based on layers. So first you have your data layer, then the aesthetics layer, then the geometries layer, and so on.\n",
        "\n",
        "Here is a nice guide on Exploratory data analysis and Python plotting libraries. You can click through to compare how certain plots would look depending on the library (Different libraries: pandas, plotnine, plotly, and Altair) https://pythonplot.com/"
      ]
    },
    {
      "cell_type": "code",
      "metadata": {
        "colab": {
          "base_uri": "https://localhost:8080/",
          "height": 519
        },
        "id": "7ducfsudN65T",
        "outputId": "74b002d2-4ae4-4460-beda-1c743d33e82a"
      },
      "source": [
        "(ggplot(data = CA_data) +\n",
        " aes(x = 'administered_date', y = 'partial_percent') +\n",
        " geom_area(fill = 'green') +\n",
        " geom_area(aes(x = 'administered_date', y = 'fully_percent'), fill = 'lightgreen')\n",
        " )\n"
      ],
      "execution_count": null,
      "outputs": [
        {
          "output_type": "stream",
          "text": [
            "/usr/local/lib/python3.7/dist-packages/plotnine/utils.py:1246: FutureWarning: is_categorical is deprecated and will be removed in a future version.  Use is_categorical_dtype instead\n",
            "  if pdtypes.is_categorical(arr):\n"
          ],
          "name": "stderr"
        },
        {
          "output_type": "display_data",
          "data": {
            "image/png": "[encoded data removed]",
            "text/plain": [
              "<Figure size 640x480 with 1 Axes>"
            ]
          },
          "metadata": {
            "tags": []
          }
        },
        {
          "output_type": "execute_result",
          "data": {
            "text/plain": [
              "<ggplot: (8774549874505)>"
            ]
          },
          "metadata": {
            "tags": []
          },
          "execution_count": 122
        }
      ]
    },
    {
      "cell_type": "markdown",
      "metadata": {
        "id": "L1whTvoQT9R_"
      },
      "source": [
        "Our plot looks pretty similar to the one in the article! You can change the colors to find a better match and the axes to make it look nicer."
      ]
    },
    {
      "cell_type": "markdown",
      "metadata": {
        "id": "LzloBBzXUMgd"
      },
      "source": [
        "## Plot 2: Doses administered\n",
        "\n",
        "Now, we're going to create the second plot in the article. In that plot, they overlay a summary line on the doses administered. We have already calculated the rolling averages over 7 days (wk_avg).\n",
        "\n"
      ]
    },
    {
      "cell_type": "code",
      "metadata": {
        "colab": {
          "base_uri": "https://localhost:8080/",
          "height": 519
        },
        "id": "W04t9xcDZRQw",
        "outputId": "bf7f746f-8903-4e3c-8441-25829e7baeb9"
      },
      "source": [
        "(ggplot(data = CA_data) +\n",
        " aes(x = 'administered_date', y = 'total_doses') +\n",
        " geom_col(fill = 'yellowgreen') +\n",
        " scale_y_continuous() +\n",
        " geom_line(aes(x = 'administered_date', y = 'wk_avg'), color = 'darkgreen')\n",
        " )\n",
        "\n"
      ],
      "execution_count": null,
      "outputs": [
        {
          "output_type": "stream",
          "text": [
            "/usr/local/lib/python3.7/dist-packages/plotnine/utils.py:1246: FutureWarning: is_categorical is deprecated and will be removed in a future version.  Use is_categorical_dtype instead\n",
            "  if pdtypes.is_categorical(arr):\n"
          ],
          "name": "stderr"
        },
        {
          "output_type": "display_data",
          "data": {
            "image/png": "[encoded data removed]",
            "text/plain": [
              "<Figure size 640x480 with 1 Axes>"
            ]
          },
          "metadata": {
            "tags": []
          }
        },
        {
          "output_type": "execute_result",
          "data": {
            "text/plain": [
              "<ggplot: (8774559573065)>"
            ]
          },
          "metadata": {
            "tags": []
          },
          "execution_count": 120
        }
      ]
    },
    {
      "cell_type": "markdown",
      "metadata": {
        "id": "AAVYSWjTb-7N"
      },
      "source": [
        "We just completed re-creating two plots that look pretty similar to the ones in the article!  \n",
        "\n"
      ]
    },
    {
      "cell_type": "markdown",
      "metadata": {
        "id": "dUqnTxZtaQZw"
      },
      "source": [
        "# Assignment\n",
        "\n",
        "Now, it's your turn to create these plots for a county in California. There are 58 different counties to choose from! You could pick a county that you live in or a county you like to visit. \n",
        "\n",
        "Remember to \n",
        "* For the calculations, remember to use the population of the county of your chose.\n",
        "* For the plot: Add a title, change the name of the x-axis and y-axis, and choose colors that you like!\n"
      ]
    }
  ]
}
